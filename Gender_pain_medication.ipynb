{
 "cells": [
  {
   "cell_type": "code",
   "execution_count": 1,
   "metadata": {},
   "outputs": [],
   "source": [
    "import pandas as pd\n",
    "from bs4 import BeautifulSoup\n",
    "import requests\n",
    "import time\n",
    "import scipy.stats\n",
    "import re"
   ]
  },
  {
   "cell_type": "markdown",
   "metadata": {},
   "source": [
    "## Převod exportovaných receptů na unikátní kombinaci lék-pacient "
   ]
  },
  {
   "cell_type": "markdown",
   "metadata": {},
   "source": [
    "Soubor 'rcp_export.txt' je export receptů za posledních 15 let."
   ]
  },
  {
   "cell_type": "code",
   "execution_count": 2,
   "metadata": {},
   "outputs": [],
   "source": [
    "recepty = []\n",
    "with open('rcp_export.txt', encoding='Windows-1250') as f:\n",
    "    for line in f:\n",
    "        parts = line.split(\"\\\",\\\"\")\n",
    "        \n",
    "        if len(parts)>= 9:\n",
    "            rc, lek1, lek2 = parts[3], parts[6], parts[9]\n",
    "            rc = rc.replace(\"\\n\", \"\")\n",
    "            lek1 = lek1.replace(\"\\n\", \"\").replace(\",\", \".\")\n",
    "            lek2 = lek2.replace(\"\\n\", \"\").replace(\",\", \".\")\n",
    "            if lek1:\n",
    "                recepty.append( (rc, lek1) )\n",
    "            if lek2:\n",
    "                recepty.append( (rc, lek2) )"
   ]
  },
  {
   "cell_type": "markdown",
   "metadata": {},
   "source": [
    "## Čištění dat"
   ]
  },
  {
   "cell_type": "code",
   "execution_count": 3,
   "metadata": {},
   "outputs": [],
   "source": [
    "with open('recepty.csv', 'w') as o:\n",
    "    o.write(\"rc,lek\\n\")\n",
    "    for rc, lek in recepty:\n",
    "        o.write(f\"{rc},{lek}\\n\")"
   ]
  },
  {
   "cell_type": "code",
   "execution_count": 4,
   "metadata": {},
   "outputs": [],
   "source": [
    "df = pd.read_csv('recepty.csv')\n",
    "df.dropna(inplace=True)\n",
    "df['rc'] = df['rc'].apply(str)"
   ]
  },
  {
   "cell_type": "markdown",
   "metadata": {},
   "source": [
    "## Převod rodného čísla na pohlaví"
   ]
  },
  {
   "cell_type": "code",
   "execution_count": 5,
   "metadata": {},
   "outputs": [],
   "source": [
    "def getGender( rc ):\n",
    "    if int(rc[2:4]) > 50:\n",
    "        return 'female'\n",
    "    else:\n",
    "        return 'male'"
   ]
  },
  {
   "cell_type": "code",
   "execution_count": 6,
   "metadata": {},
   "outputs": [],
   "source": [
    "df['gender'] = df['rc'].apply(getGender)"
   ]
  },
  {
   "cell_type": "markdown",
   "metadata": {},
   "source": [
    "## Základní popisná statistika celého souboru "
   ]
  },
  {
   "cell_type": "code",
   "execution_count": 7,
   "metadata": {},
   "outputs": [
    {
     "name": "stdout",
     "output_type": "stream",
     "text": [
      "Počet receptů: 30170\n",
      "Počet kombinací pacient-lék: 21411\n",
      "Počet unikátních pacientů: 8568\n",
      "Počet unikátních žen, kterým se předepisovaly recepty: 4948 (57.7 %).\n",
      "Počet unikátních mužů, kterým se předepisovaly recepty: 3620 (42.3 %)\n"
     ]
    }
   ],
   "source": [
    "pocet_receptu = len(df)\n",
    "print(f\"Počet receptů: {pocet_receptu}\")\n",
    "\n",
    "df.drop_duplicates(inplace=True)\n",
    "pocet_kombinaci = len(df)\n",
    "print(f\"Počet kombinací pacient-lék: {pocet_kombinaci}\")\n",
    "\n",
    "pacienti_unique = pd.DataFrame( {'rc': df['rc'].unique() } )\n",
    "pacienti_unique['gender'] = pacienti_unique['rc'].apply(getGender)\n",
    "pocet_pacientu = len(pacienti_unique)\n",
    "print(f\"Počet unikátních pacientů: {pocet_pacientu}\")\n",
    "\n",
    "recepty_zeny = len(pacienti_unique.loc[pacienti_unique['gender'] == 'female'])\n",
    "procent_zen_soubor = 100.0 * (recepty_zeny/pocet_pacientu)\n",
    "recepty_muzi = len(pacienti_unique.loc[pacienti_unique['gender'] == 'male'])\n",
    "procent_muzu_soubor = 100.0 * (recepty_muzi/pocet_pacientu)\n",
    "print(f\"Počet unikátních žen, kterým se předepisovaly recepty: {recepty_zeny} ({procent_zen_soubor:.1f} %).\")\n",
    "print(f\"Počet unikátních mužů, kterým se předepisovaly recepty: {recepty_muzi} ({procent_muzu_soubor:.1f} %)\")\n",
    "\n",
    "with open('leky.txt', 'w') as o:\n",
    "    for lek in df['lek'].unique():\n",
    "        o.write(f\"{lek}\\n\")"
   ]
  },
  {
   "cell_type": "markdown",
   "metadata": {},
   "source": [
    "## Výber těch léků, ktere jsou na bolest "
   ]
  },
  {
   "cell_type": "code",
   "execution_count": 8,
   "metadata": {},
   "outputs": [],
   "source": [
    "def getMedication( lek ):\n",
    "    \"\"\"\n",
    "        Vypíše účinnou látku léku podle údajů SÚKL\n",
    "    \"\"\"\n",
    "    url = 'http://www.sukl.cz/modules/medication/search.php?data%5Bchbox%5D%5B%5D=marketability&data%5Bsearch_for%5D='\n",
    "    url = 'http://www.sukl.cz/modules/medication/search.php?data%5Bsearch_for%5D='\n",
    "    try:\n",
    "        lek = lek.split(\" \")[0]\n",
    "        r = requests.get(url = url+lek)\n",
    "        soup = BeautifulSoup(r.text, 'html.parser')\n",
    "        td = soup.find('td', {'headers': 'nazev'})\n",
    "        a = td.find('a')\n",
    "        href = a['href']\n",
    "        time.sleep(2)\n",
    "\n",
    "        r = requests.get(url = href)\n",
    "        soup = BeautifulSoup(r.text, 'html.parser')\n",
    "        text = soup.find('th', text = u'Účinná látka').fetchNextSiblings()[0].get_text()\n",
    "        time.sleep(2)\n",
    "        return text.replace(\"<td>\", \"\").replace(\"</td>\", \"\").replace(\" \", \"\").strip()\n",
    "    except Exception:\n",
    "        print(f\"*{lek}\")"
   ]
  },
  {
   "cell_type": "code",
   "execution_count": null,
   "metadata": {},
   "outputs": [],
   "source": [
    "with open('leky.txt') as f:\n",
    "    for line in f:\n",
    "        lek = line.strip()\n",
    "        med = getMedication(lek)\n",
    "        print(f\"{lek}, {med}\")"
   ]
  },
  {
   "cell_type": "markdown",
   "metadata": {},
   "source": [
    "Soubor \"leky.txt\" upraven tak, aby obsahoval jen léky na bolest jako \"leky_na_bolest.txt\"."
   ]
  },
  {
   "cell_type": "code",
   "execution_count": 9,
   "metadata": {},
   "outputs": [
    {
     "name": "stdout",
     "output_type": "stream",
     "text": [
      "Počet unikátních léků: 215\n"
     ]
    }
   ],
   "source": [
    "leky_na_bolest = []\n",
    "with open('leky_na_bolest.txt') as f:\n",
    "    for line in f: leky_na_bolest.append(line.strip())\n",
    "pocet_leku_na_bolest = len(leky_na_bolest)\n",
    "print(f\"Počet unikátních léků: {pocet_leku_na_bolest}\")"
   ]
  },
  {
   "cell_type": "markdown",
   "metadata": {},
   "source": [
    "Vyber pouze ty recepty, které jsou na lék na bolest"
   ]
  },
  {
   "cell_type": "code",
   "execution_count": 10,
   "metadata": {},
   "outputs": [
    {
     "data": {
      "text/plain": [
       "8183"
      ]
     },
     "execution_count": 10,
     "metadata": {},
     "output_type": "execute_result"
    }
   ],
   "source": [
    "len(df[ df['lek'].isin(leky_na_bolest)])"
   ]
  },
  {
   "cell_type": "code",
   "execution_count": 11,
   "metadata": {},
   "outputs": [
    {
     "data": {
      "text/plain": [
       "13228"
      ]
     },
     "execution_count": 11,
     "metadata": {},
     "output_type": "execute_result"
    }
   ],
   "source": [
    "len(df[ ~df['lek'].isin(leky_na_bolest)])"
   ]
  },
  {
   "cell_type": "code",
   "execution_count": 12,
   "metadata": {},
   "outputs": [],
   "source": [
    "df = df[ df['lek'].isin(leky_na_bolest) ]"
   ]
  },
  {
   "cell_type": "code",
   "execution_count": 13,
   "metadata": {},
   "outputs": [
    {
     "data": {
      "text/plain": [
       "8183"
      ]
     },
     "execution_count": 13,
     "metadata": {},
     "output_type": "execute_result"
    }
   ],
   "source": [
    "len(df)"
   ]
  },
  {
   "cell_type": "markdown",
   "metadata": {},
   "source": [
    "## Pohlaví u léků na bolest"
   ]
  },
  {
   "cell_type": "code",
   "execution_count": 14,
   "metadata": {},
   "outputs": [],
   "source": [
    "df['gender'] = df['rc'].apply(getGender)"
   ]
  },
  {
   "cell_type": "code",
   "execution_count": 15,
   "metadata": {},
   "outputs": [
    {
     "name": "stdout",
     "output_type": "stream",
     "text": [
      "Počet lidí s léky na bolest: 5279\n",
      "Počet žen s léky na bolest: 3151 (59.7 %)\n",
      "Počet mužů s léky na bolest: 2128 (40.3 %)\n"
     ]
    }
   ],
   "source": [
    "bolest_muzi = len(df.loc[ df['gender'] == 'male', 'rc'].unique())\n",
    "bolest_zeny = len(df.loc[ df['gender'] == 'female', 'rc'].unique())\n",
    "bolest_procent_muzi = 100.0 * (bolest_muzi/len(df['rc'].unique()))\n",
    "bolest_procent_zeny = 100.0 * (bolest_zeny/len(df['rc'].unique()))\n",
    "bolest_celkem = len(df['rc'].unique())\n",
    "print(f\"Počet lidí s léky na bolest: {bolest_celkem}\")\n",
    "print(f\"Počet žen s léky na bolest: {bolest_zeny} ({bolest_procent_zeny:.1f} %)\")\n",
    "print(f\"Počet mužů s léky na bolest: {bolest_muzi} ({bolest_procent_muzi:.1f} %)\")"
   ]
  },
  {
   "cell_type": "code",
   "execution_count": 16,
   "metadata": {},
   "outputs": [
    {
     "data": {
      "text/plain": [
       "[[2128, 3151], [3620, 4948]]"
      ]
     },
     "execution_count": 16,
     "metadata": {},
     "output_type": "execute_result"
    }
   ],
   "source": [
    "kontingencni_tabulka = [\n",
    "        [bolest_muzi, bolest_zeny],\n",
    "        [recepty_muzi, recepty_zeny]\n",
    "    ]\n",
    "kontingencni_tabulka"
   ]
  },
  {
   "cell_type": "code",
   "execution_count": 17,
   "metadata": {},
   "outputs": [
    {
     "name": "stdout",
     "output_type": "stream",
     "text": [
      "P-hodnota: 0.02527689026555753\n"
     ]
    }
   ],
   "source": [
    "oddsratio, pvalue = scipy.stats.fisher_exact(\n",
    "    [\n",
    "        [bolest_muzi, bolest_zeny],\n",
    "        [recepty_muzi, recepty_zeny]\n",
    "    ]\n",
    ")\n",
    "print(f\"P-hodnota: {pvalue}\")"
   ]
  },
  {
   "cell_type": "markdown",
   "metadata": {},
   "source": [
    "## Návštěvy pacientů "
   ]
  },
  {
   "cell_type": "code",
   "execution_count": 18,
   "metadata": {},
   "outputs": [],
   "source": [
    "isRc = re.compile('\\d{9,10}')"
   ]
  },
  {
   "cell_type": "code",
   "execution_count": 19,
   "metadata": {},
   "outputs": [],
   "source": [
    "rodna_cisla = []\n",
    "with open('amb_navs_2004-09-15_2019-09-15.txt', encoding='Windows-1250') as f:\n",
    "    for line in f:\n",
    "        if \"|\" in line:\n",
    "            jmeno, rc, *_ = line.split(\"|\")\n",
    "            if isRc.match(rc): rodna_cisla.append(rc)"
   ]
  },
  {
   "cell_type": "code",
   "execution_count": 20,
   "metadata": {},
   "outputs": [],
   "source": [
    "rodna_cisla = set(rodna_cisla)\n",
    "pohlavi = map(lambda p: 1 if getGender(p) == 'female' else 0, rodna_cisla)\n",
    "pohlavi = list(pohlavi)"
   ]
  },
  {
   "cell_type": "code",
   "execution_count": 21,
   "metadata": {},
   "outputs": [],
   "source": [
    "zeny = sum(pohlavi)\n",
    "zeny_procent = 100 * (zeny / len(pohlavi) )"
   ]
  },
  {
   "cell_type": "code",
   "execution_count": 22,
   "metadata": {},
   "outputs": [
    {
     "name": "stdout",
     "output_type": "stream",
     "text": [
      "Zdravotnické zařízení navštívilo 55.9 % žen.\n"
     ]
    }
   ],
   "source": [
    "print(f\"Zdravotnické zařízení navštívilo {zeny_procent:.1f} % žen.\")"
   ]
  }
 ],
 "metadata": {
  "kernelspec": {
   "display_name": "Python 3",
   "language": "python",
   "name": "python3"
  },
  "language_info": {
   "codemirror_mode": {
    "name": "ipython",
    "version": 3
   },
   "file_extension": ".py",
   "mimetype": "text/x-python",
   "name": "python",
   "nbconvert_exporter": "python",
   "pygments_lexer": "ipython3",
   "version": "3.7.3"
  }
 },
 "nbformat": 4,
 "nbformat_minor": 4
}
